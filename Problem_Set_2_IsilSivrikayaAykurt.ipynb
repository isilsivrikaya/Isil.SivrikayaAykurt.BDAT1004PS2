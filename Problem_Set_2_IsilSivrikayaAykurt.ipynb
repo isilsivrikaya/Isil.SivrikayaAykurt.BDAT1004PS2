{
 "cells": [
  {
   "cell_type": "code",
   "execution_count": null,
   "id": "d3d7a94a",
   "metadata": {},
   "outputs": [],
   "source": [
    "#Question 1\n",
    "\"\"\"\n",
    "Each time 2 is added\n",
    "\n",
    "b() then a is 0 + 2 = 2\n",
    "\n",
    "b() then a is 2 + 2 = 4\n",
    "\n",
    "b() then a is 4 + 2 = 6\n",
    "\n",
    "a is 6 finally\n",
    "\n",
    "\"\"\""
   ]
  },
  {
   "cell_type": "code",
   "execution_count": 5,
   "id": "5fee5381",
   "metadata": {},
   "outputs": [
    {
     "name": "stdout",
     "output_type": "stream",
     "text": [
      "File idterm.py not found.\n"
     ]
    }
   ],
   "source": [
    "#Question 2\n",
    "def fileLength(name):\n",
    "    try:\n",
    "        file=open(name,'r')\n",
    "        data=file.readlines()\n",
    "        line=\"\"\n",
    "        for i in data:\n",
    "            line+=i\n",
    "        result=len(line)\n",
    "        return result\n",
    "    except FileNotFoundError:\n",
    "        return (\"File {} not found.\".format(name))\n",
    "\n",
    "print(fileLength('idterm.py'))"
   ]
  },
  {
   "cell_type": "code",
   "execution_count": 10,
   "id": "2d85d70a",
   "metadata": {},
   "outputs": [
    {
     "name": "stdout",
     "output_type": "stream",
     "text": [
      "['doll', 'firetruck', 'kitten']\n",
      "I am a marsupial. My pouch contains a doll, firetruck, and kitten.\n"
     ]
    }
   ],
   "source": [
    "#Question 3\n",
    "class Marsupial:\n",
    "\n",
    "    def __init__(self):\n",
    "        self.pouch=[]\n",
    "\n",
    "\n",
    "    def put_in_pouch(self, x):\n",
    "        self.pouch=self.pouch+[x]\n",
    "\n",
    "\n",
    "    def pouch_contents(self):\n",
    "        return self.pouch\n",
    "\n",
    "    def __str__(self):\n",
    "        x=\"\"\n",
    "\n",
    "\n",
    "        if(len(self.pouch)>1):\n",
    "\n",
    "            for i in range(len(self.pouch)-1):\n",
    "                x=x+self.pouch[i]+\", \"\n",
    "            x=x+\"and \"\n",
    "        x=x+self.pouch[-1]+\".\"\n",
    "        return \"I am a marsupial. My pouch contains a \"+x\n",
    "\n",
    "m=Marsupial()\n",
    "m.put_in_pouch(\"doll\")\n",
    "m.put_in_pouch(\"firetruck\")\n",
    "m.put_in_pouch(\"kitten\")\n",
    "print(m.pouch_contents())\n",
    "print(m)"
   ]
  },
  {
   "cell_type": "code",
   "execution_count": 11,
   "id": "a0d6fd2e",
   "metadata": {},
   "outputs": [],
   "source": [
    "class Kangaroo(Marsupial):\n",
    "    def __init__(self,x,y):\n",
    "        Marsupial.__init__(self)\n",
    "        self.x = x\n",
    "        self.y = y\n",
    "    def jump(self,dx,dy):\n",
    "        self.x += dx\n",
    "        self.y += dy\n",
    "    def __str__(self):\n",
    "        return 'I am a Kangaroo located at coordinates ({},{})'.format(self.x,self.y)"
   ]
  },
  {
   "cell_type": "code",
   "execution_count": 13,
   "id": "2b9740e1",
   "metadata": {},
   "outputs": [
    {
     "name": "stdout",
     "output_type": "stream",
     "text": [
      "10\n",
      "5.0\n",
      "16.0\n",
      "8.0\n",
      "4.0\n",
      "2.0\n",
      "1.0\n"
     ]
    }
   ],
   "source": [
    "#Question 4\n",
    "def main():\n",
    "    collatz(10)\n",
    "\n",
    "def collatz(x):\n",
    "    if x == 1:\n",
    "        print(x)\n",
    "    elif x % 2 == 0:\n",
    "        print(x)\n",
    "        x = x/2\n",
    "        collatz(x)\n",
    "    else:\n",
    "        print(x)\n",
    "        x = 3*x + 1\n",
    "        collatz(x)\n",
    "\n",
    "if __name__ == \"__main__\":\n",
    "    main()\n",
    "\n"
   ]
  },
  {
   "cell_type": "code",
   "execution_count": null,
   "id": "786fc206",
   "metadata": {},
   "outputs": [],
   "source": [
    "#Question 5\n",
    "def binary(n):\n",
    "    if n < 2:\n",
    "        return n\n",
    "    else:\n",
    "        return str(binary(n / 2)) + str(n % 2)"
   ]
  },
  {
   "cell_type": "code",
   "execution_count": null,
   "id": "edd80d60",
   "metadata": {},
   "outputs": [],
   "source": [
    "#Question 6\n",
    "from html.parser import HTMLParser\n",
    "\n",
    "class HeadingParser(HTMLParser):\n",
    "    headers = ['header1', 'header2', 'header3', 'header4', 'header5', 'header6']\n",
    "\n",
    "    def starttag(self, tag, attrs):\n",
    "        if tag in self.headers:\n",
    "            print(tag)\n",
    "\n",
    "    def endtag(self, tag):\n",
    "        if tag in self.headers:\n",
    "            print(tag)\n",
    "\n",
    "    def data(self, data):\n",
    "        print(data)\n",
    "\n",
    "parser = HeadingParser()\n",
    "infile = open('w3c.html')\n",
    "content = infile.read()\n",
    "infile.close()\n",
    "hp = HeadingParser()\n",
    "hp.feed(content)"
   ]
  },
  {
   "cell_type": "code",
   "execution_count": null,
   "id": "d0d9a261",
   "metadata": {},
   "outputs": [],
   "source": [
    "#Question 7\n",
    "#I couldn't create the exact function you asked, so I searched the internet to learn more. I have implemented a different\n",
    "#function that is a little similar with the function you asked. I found this function on https://www.geeksforgeeks.org which I\n",
    "#usually visit to learn more about Python.\n",
    "from bs4 import BeautifulSoup\n",
    "import requests\n",
    "\n",
    "# lists\n",
    "urls=[]\n",
    "\n",
    "# function created\n",
    "def scrape(site):\n",
    "\t\n",
    "\t# getting the request from url\n",
    "\tr = requests.get(site)\n",
    "\t\n",
    "\t# converting the text\n",
    "\ts = BeautifulSoup(r.text,\"html.parser\")\n",
    "\t\n",
    "\tfor i in s.find_all(\"a\"):\n",
    "\t\t\n",
    "\t\thref = i.attrs['href']\n",
    "\t\t\n",
    "\t\tif href.startswith(\"/\"):\n",
    "\t\t\tsite = site+href\n",
    "\t\t\t\n",
    "\t\t\tif site not in urls:\n",
    "\t\t\t\turls.append(site)\n",
    "\t\t\t\tprint(site)\n",
    "\t\t\t\t# calling it self\n",
    "\t\t\t\tscrape(site)\n",
    "\n",
    "# main function\n",
    "if __name__ ==\"__main__\":\n",
    "\n",
    "\t# website to be scrape\n",
    "\tsite=\"http://example.webscraping.com//\"\n",
    "\n",
    "\t# calling function\n",
    "\tscrape(site)\n",
    "\t"
   ]
  },
  {
   "cell_type": "code",
   "execution_count": null,
   "id": "e7f5e54e",
   "metadata": {},
   "outputs": [],
   "source": [
    "#Question 8\n",
    "%%sql\n",
    "CREATE TABLE whether\n",
    "(\n",
    "city varchar(15),\n",
    "countrt varchar(15),\n",
    "season varchar(15),\n",
    "temperature float,\n",
    "rainfall float\n",
    ");"
   ]
  },
  {
   "cell_type": "code",
   "execution_count": null,
   "id": "800d3a8c",
   "metadata": {},
   "outputs": [],
   "source": [
    "%%sql\n",
    "INSERT INTO whether VALUES('Mumbai', 'India', 'Winter', 24.8,5.9),\n",
    "('Mumbai', 'India', 'Spring', 28.4,16.2),\n",
    "('Mumbai', 'India', 'Summer', 27.9,1549.4),\n",
    "('Mumbai', 'India', 'Fall', 27.6,346.0),\n",
    "('London', 'United kingdom', 'Winter', 4.2,207.7),\n",
    "('London', 'United kingdom', 'Spring', 8.3,169.6),\n",
    "('London', 'United kingdom','Summer', 15.7,157.0),\n",
    "('London', 'United kingdom','Fall', 10.4,218.5),\n",
    "('Cairo', 'Egypt','Winter', 13.6,16.5),\n",
    "('Cairo', 'Egypt', 'Spring', 20.7,6.5);"
   ]
  },
  {
   "cell_type": "code",
   "execution_count": null,
   "id": "42d38027",
   "metadata": {},
   "outputs": [],
   "source": [
    "%%sql\n",
    "select * from whether;"
   ]
  },
  {
   "cell_type": "code",
   "execution_count": null,
   "id": "88351c6e",
   "metadata": {},
   "outputs": [],
   "source": [
    "#8a\n",
    "%%sql\n",
    "select temperature from whether;\n",
    "#8b\n",
    "%%sql\n",
    "select distinct city from whether;\n",
    "#8c\n",
    "%%sql\n",
    "select * from whether where countrt =='India';\n",
    "#8d\n",
    "%%sql\n",
    "select * from whether where season == 'Fall';\n",
    "#8e\n",
    "%%sql\n",
    "select city, countrt, season from whether where rainfall between 200 and 400\n",
    "#8f\n",
    "%%sql\n",
    "select city, countrt from whether where season == 'Fall' and temperature > 20 order by temperature ASC;\n",
    "#8g\n",
    "%%sql\n",
    "select sum(rainfall) AS annual_rainfall from whether where city == 'Cairo';\n",
    "#8h\n",
    "%%sql\n",
    "select season, sum(rainfall) AS annual_rainfall from whether group by season;"
   ]
  },
  {
   "cell_type": "code",
   "execution_count": 14,
   "id": "d8d537b8",
   "metadata": {},
   "outputs": [
    {
     "name": "stdout",
     "output_type": "stream",
     "text": [
      "['THE', 'QUICK', 'BROWN', 'FOX', 'JUMPS', 'OVER', 'THE', 'LAZY', 'DOG']\n",
      "['the', 'quick', 'brown', 'fox', 'jumps', 'over', 'the', 'lazy', 'dog']\n",
      "[3, 5, 5, 3, 5, 4, 3, 4, 3]\n",
      "[['THE', 'the', 3], ['QUICK', 'quick', 5], ['BROWN', 'brown', 5], ['FOX', 'fox', 3], ['JUMPS', 'jumps', 5], ['OVER', 'over', 4], ['THE', 'the', 3], ['LAZY', 'lazy', 4], ['DOG', 'dog', 3]]\n",
      "['quick', 'brown', 'jumps', 'over', 'lazy']\n"
     ]
    }
   ],
   "source": [
    "#Question 9\n",
    "words = ['The', 'quick', 'brown', 'fox', 'jumps', 'over', 'the', 'lazy', 'dog']\n",
    "\n",
    "#9a\n",
    "print([x.upper() for x in words])\n",
    "\n",
    "#9b\n",
    "print([x.lower() for x in words])\n",
    "\n",
    "#9c\n",
    "print([len(x) for x in words])\n",
    "\n",
    "#9d\n",
    "print([[x.upper(), x.lower(), len(x)] for x in words])\n",
    "\n",
    "#9e\n",
    "print([x for x in words if len(x)>=4])"
   ]
  }
 ],
 "metadata": {
  "kernelspec": {
   "display_name": "Python 3 (ipykernel)",
   "language": "python",
   "name": "python3"
  },
  "language_info": {
   "codemirror_mode": {
    "name": "ipython",
    "version": 3
   },
   "file_extension": ".py",
   "mimetype": "text/x-python",
   "name": "python",
   "nbconvert_exporter": "python",
   "pygments_lexer": "ipython3",
   "version": "3.9.12"
  }
 },
 "nbformat": 4,
 "nbformat_minor": 5
}
